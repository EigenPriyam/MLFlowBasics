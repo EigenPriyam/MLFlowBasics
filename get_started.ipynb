{
 "cells": [
  {
   "cell_type": "code",
   "execution_count": 7,
   "metadata": {},
   "outputs": [],
   "source": [
    "#Before running the code run on cmd line mlflow ui to create the mlflow webpage"
   ]
  },
  {
   "cell_type": "code",
   "execution_count": 1,
   "metadata": {},
   "outputs": [],
   "source": [
    "import mlflow"
   ]
  },
  {
   "cell_type": "code",
   "execution_count": 2,
   "metadata": {},
   "outputs": [],
   "source": [
    "mlflow.set_tracking_uri(\"http://127.0.0.1:5000\") #To Make MFLOW URL TRACK THE EXPERIMENTS"
   ]
  },
  {
   "cell_type": "code",
   "execution_count": 4,
   "metadata": {},
   "outputs": [
    {
     "name": "stderr",
     "output_type": "stream",
     "text": [
      "2024/11/13 00:22:59 INFO mlflow.tracking._tracking_service.client: 🏃 View run silent-dog-936 at: http://127.0.0.1:5000/#/experiments/257087292995342928/runs/9b5a896e9d494a9ba2546f9f260d22d2.\n",
      "2024/11/13 00:22:59 INFO mlflow.tracking._tracking_service.client: 🧪 View experiment at: http://127.0.0.1:5000/#/experiments/257087292995342928.\n"
     ]
    }
   ],
   "source": [
    "mlflow.set_experiment(\"Check Local Host Connection\")\n",
    "\n",
    "with mlflow.start_run():\n",
    "    mlflow.log_metric(\"variable1\",1)\n",
    "    mlflow.log_metric(\"variable2\",2)"
   ]
  },
  {
   "cell_type": "code",
   "execution_count": 5,
   "metadata": {},
   "outputs": [
    {
     "name": "stderr",
     "output_type": "stream",
     "text": [
      "2024/11/13 00:23:02 INFO mlflow.tracking._tracking_service.client: 🏃 View run luxuriant-mouse-523 at: http://127.0.0.1:5000/#/experiments/257087292995342928/runs/d2a03a60a5924cb8962b931be2c8decc.\n",
      "2024/11/13 00:23:02 INFO mlflow.tracking._tracking_service.client: 🧪 View experiment at: http://127.0.0.1:5000/#/experiments/257087292995342928.\n"
     ]
    }
   ],
   "source": [
    "with mlflow.start_run():\n",
    "    mlflow.log_metric(\"variable3\",1)\n",
    "    mlflow.log_metric(\"variable4\",2)"
   ]
  },
  {
   "cell_type": "code",
   "execution_count": 6,
   "metadata": {},
   "outputs": [
    {
     "name": "stderr",
     "output_type": "stream",
     "text": [
      "2024/11/13 00:25:58 INFO mlflow.tracking._tracking_service.client: 🏃 View run ambitious-deer-220 at: http://127.0.0.1:5000/#/experiments/257087292995342928/runs/fc2d72e0494e4aa081bbe9954c6d58e4.\n",
      "2024/11/13 00:25:58 INFO mlflow.tracking._tracking_service.client: 🧪 View experiment at: http://127.0.0.1:5000/#/experiments/257087292995342928.\n"
     ]
    }
   ],
   "source": [
    "with mlflow.start_run():\n",
    "    mlflow.log_metric(\"variable5\",3)\n",
    "    mlflow.log_metric(\"variable6\",4)"
   ]
  },
  {
   "cell_type": "code",
   "execution_count": null,
   "metadata": {},
   "outputs": [],
   "source": []
  }
 ],
 "metadata": {
  "kernelspec": {
   "display_name": "Python 3",
   "language": "python",
   "name": "python3"
  },
  "language_info": {
   "codemirror_mode": {
    "name": "ipython",
    "version": 3
   },
   "file_extension": ".py",
   "mimetype": "text/x-python",
   "name": "python",
   "nbconvert_exporter": "python",
   "pygments_lexer": "ipython3",
   "version": "3.10.0"
  }
 },
 "nbformat": 4,
 "nbformat_minor": 2
}
